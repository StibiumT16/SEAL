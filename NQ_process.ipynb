{
 "cells": [
  {
   "cell_type": "code",
   "execution_count": null,
   "metadata": {},
   "outputs": [],
   "source": [
    "import os\n",
    "os.system(\"python scripts/training/make_supervised_dpr_dataset.py \\\n",
    "            NQ/nq-train.json NQ/train \\\n",
    "            --target title \\\n",
    "            --mark_target \\\n",
    "            --mark_silver \\\n",
    "            --n_samples 3 \\\n",
    "            --mode a\")\n",
    "\n",
    "os.system(\"python scripts/training/make_supervised_dpr_dataset.py \\\n",
    "            NQ/nq-train.json NQ/train \\\n",
    "            --target span \\\n",
    "            --mark_target \\\n",
    "            --mark_silver \\\n",
    "            --n_samples 10 \\\n",
    "            --mode a\")"
   ]
  },
  {
   "cell_type": "code",
   "execution_count": null,
   "metadata": {},
   "outputs": [],
   "source": [
    "os.system(\"python scripts/training/make_supervised_dpr_dataset.py \\\n",
    "            NQ/nq-dev.json NQ/dev \\\n",
    "            --target title \\\n",
    "            --mark_target \\\n",
    "            --mark_silver \\\n",
    "            --n_samples 3 \\\n",
    "            --mode a\")\n",
    "\n",
    "os.system(\"python scripts/training/make_supervised_dpr_dataset.py \\\n",
    "            NQ/nq-dev.json NQ/dev \\\n",
    "            --target span \\\n",
    "            --mark_target \\\n",
    "            --mark_silver \\\n",
    "            --n_samples 10 \\\n",
    "            --mode a\")"
   ]
  },
  {
   "cell_type": "code",
   "execution_count": null,
   "metadata": {},
   "outputs": [],
   "source": [
    "os.system(\"python scripts/training/make_unsupervised_dataset.py \\\n",
    "     NQ/psgs_w100.tsv NQ/unsupervised.source NQ/unsupervised.target \\\n",
    "    --format dpr --num_samples 3 --num_title_samples 1 --full_doc_n 1 --mark_pretraining\")\n",
    "\n",
    "os.system(\"cat NQ/unsupervised.source >> NQ/train.source\")\n",
    "os.system(\"cat NQ/unsupervised.target >> NQ/train.target\")"
   ]
  },
  {
   "cell_type": "code",
   "execution_count": null,
   "metadata": {},
   "outputs": [],
   "source": [
    "# sh scripts/training/preprocess_fairseq.sh NQ BART"
   ]
  },
  {
   "cell_type": "code",
   "execution_count": null,
   "metadata": {},
   "outputs": [],
   "source": [
    "# sh scripts/training/training_fairseq.sh NQ BART"
   ]
  }
 ],
 "metadata": {
  "kernelspec": {
   "display_name": "SEAL",
   "language": "python",
   "name": "python3"
  },
  "language_info": {
   "codemirror_mode": {
    "name": "ipython",
    "version": 3
   },
   "file_extension": ".py",
   "mimetype": "text/x-python",
   "name": "python",
   "nbconvert_exporter": "python",
   "pygments_lexer": "ipython3",
   "version": "3.8.12"
  },
  "orig_nbformat": 4,
  "vscode": {
   "interpreter": {
    "hash": "adafd9229683e5efe0f5b6ca46342f48f7190bcb1f880ca595d28228faa64ac8"
   }
  }
 },
 "nbformat": 4,
 "nbformat_minor": 2
}
